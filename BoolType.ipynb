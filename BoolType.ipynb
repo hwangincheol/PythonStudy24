{
  "nbformat": 4,
  "nbformat_minor": 0,
  "metadata": {
    "colab": {
      "provenance": [],
      "authorship_tag": "ABX9TyOF0hSaK6a9OhAlozRtaivR",
      "include_colab_link": true
    },
    "kernelspec": {
      "name": "python3",
      "display_name": "Python 3"
    },
    "language_info": {
      "name": "python"
    }
  },
  "cells": [
    {
      "cell_type": "markdown",
      "metadata": {
        "id": "view-in-github",
        "colab_type": "text"
      },
      "source": [
        "<a href=\"https://colab.research.google.com/github/hwangincheol/PythonStudy24/blob/master/BoolType.ipynb\" target=\"_parent\"><img src=\"https://colab.research.google.com/assets/colab-badge.svg\" alt=\"Open In Colab\"/></a>"
      ]
    },
    {
      "cell_type": "markdown",
      "source": [
        "불 자료형\n",
        "\n",
        "불(bool) 자료형이란 참(True)과 거짓(False)을 나타내는 자료형이다. 불 자료형은 다음 2가지 값만을 가질 수 있다.\n",
        "\n",
        "*   True: 참을 의미한다.\n",
        "*   False: 거짓을 의미한다."
      ],
      "metadata": {
        "id": "gtBIdGO_2h2K"
      }
    },
    {
      "cell_type": "code",
      "execution_count": 1,
      "metadata": {
        "colab": {
          "base_uri": "https://localhost:8080/"
        },
        "id": "DtOdNkqY2Yjd",
        "outputId": "e3417a6f-c223-4042-8edd-d6c40c2cc47b"
      },
      "outputs": [
        {
          "output_type": "execute_result",
          "data": {
            "text/plain": [
              "bool"
            ]
          },
          "metadata": {},
          "execution_count": 1
        }
      ],
      "source": [
        "a = True\n",
        "b = False\n",
        "\n",
        "type(a)"
      ]
    },
    {
      "cell_type": "code",
      "source": [
        "type(b)"
      ],
      "metadata": {
        "colab": {
          "base_uri": "https://localhost:8080/"
        },
        "id": "dJLBzGs65_Dv",
        "outputId": "e455b66f-4b9f-419a-b4d3-2796c6343b2e"
      },
      "execution_count": 2,
      "outputs": [
        {
          "output_type": "execute_result",
          "data": {
            "text/plain": [
              "bool"
            ]
          },
          "metadata": {},
          "execution_count": 2
        }
      ]
    },
    {
      "cell_type": "code",
      "source": [
        "1 == 1"
      ],
      "metadata": {
        "colab": {
          "base_uri": "https://localhost:8080/"
        },
        "id": "4Fce6TlT6BFq",
        "outputId": "9e91e14e-8127-48e1-f254-0ce1187f6ee9"
      },
      "execution_count": 3,
      "outputs": [
        {
          "output_type": "execute_result",
          "data": {
            "text/plain": [
              "True"
            ]
          },
          "metadata": {},
          "execution_count": 3
        }
      ]
    },
    {
      "cell_type": "code",
      "source": [
        "2 > 1"
      ],
      "metadata": {
        "colab": {
          "base_uri": "https://localhost:8080/"
        },
        "id": "XAaSdfHl6FBi",
        "outputId": "502c5f0a-c2cd-4043-aca1-e5a0819fdc3b"
      },
      "execution_count": 4,
      "outputs": [
        {
          "output_type": "execute_result",
          "data": {
            "text/plain": [
              "True"
            ]
          },
          "metadata": {},
          "execution_count": 4
        }
      ]
    },
    {
      "cell_type": "code",
      "source": [
        "2 < 1"
      ],
      "metadata": {
        "colab": {
          "base_uri": "https://localhost:8080/"
        },
        "id": "Q8fmVQZe6GKz",
        "outputId": "bb6927b7-bc61-4453-852c-3d7319f9ff20"
      },
      "execution_count": 5,
      "outputs": [
        {
          "output_type": "execute_result",
          "data": {
            "text/plain": [
              "False"
            ]
          },
          "metadata": {},
          "execution_count": 5
        }
      ]
    },
    {
      "cell_type": "markdown",
      "source": [
        "자료형의 참과 거짓을 구분하는 기준은 다음과 같다.\n",
        "\n",
        "*   \"python\" : 참\n",
        "*   \"\"       : 거짓\n",
        "*   [1,2,3]  : 참\n",
        "*   []       : 거짓\n",
        "*   (1,2,3)  : 참\n",
        "*   ()       : 거짓\n",
        "*   {'a':1}  : 참\n",
        "*   {}       : 거짓\n",
        "*   1        : 참\n",
        "*   0        : 거짓\n",
        "*   None     : 거짓\n",
        "\n",
        "문자열, 리스트, 튜플, 딕셔너리 등의 값이 비어 있으면(\"\", [], (), {}) 거짓이 되고 비어 있지 않으면 참이 된다. 숫자에서는 그 값이 0일 때 거짓이 된다."
      ],
      "metadata": {
        "id": "U0T9siT06sAh"
      }
    },
    {
      "cell_type": "code",
      "source": [
        "a = [1, 2, 3, 4]\n",
        "while a:\n",
        "  print(a.pop())  # 마지막 요소 보여주고 지움\n",
        "  # 마지막 다 지워지고 []만 남으면 false 이므로 while 종료"
      ],
      "metadata": {
        "colab": {
          "base_uri": "https://localhost:8080/"
        },
        "id": "Ai9Rxk6i7Vs9",
        "outputId": "aecd0a33-d2de-4b87-f41c-e82416b3eaa3"
      },
      "execution_count": 6,
      "outputs": [
        {
          "output_type": "stream",
          "name": "stdout",
          "text": [
            "4\n",
            "3\n",
            "2\n",
            "1\n"
          ]
        }
      ]
    },
    {
      "cell_type": "code",
      "source": [
        "if []: # []가 비어 있으므로 false\n",
        "  print(\"참\")\n",
        "else:\n",
        "  print(\"거짓\")\n"
      ],
      "metadata": {
        "colab": {
          "base_uri": "https://localhost:8080/"
        },
        "id": "8VfCRPWV7hyF",
        "outputId": "73e620b9-9061-44fb-c6b7-e03cf7ade3dc"
      },
      "execution_count": 9,
      "outputs": [
        {
          "output_type": "stream",
          "name": "stdout",
          "text": [
            "거짓\n"
          ]
        }
      ]
    },
    {
      "cell_type": "code",
      "source": [
        "if [1, 2, 3]: # 요소값이 있으니 true\n",
        "  print(\"참\")\n",
        "else:\n",
        "  print(\"거짓\")"
      ],
      "metadata": {
        "colab": {
          "base_uri": "https://localhost:8080/"
        },
        "id": "Jy5I49xq8JrC",
        "outputId": "a3b30870-dc23-4480-cc9d-9aaf3abf7f9f"
      },
      "execution_count": 10,
      "outputs": [
        {
          "output_type": "stream",
          "name": "stdout",
          "text": [
            "참\n"
          ]
        }
      ]
    },
    {
      "cell_type": "code",
      "source": [
        "# 불 연산\n",
        "bool('python')  # 문자열은 비어 있지 않으므로 true 리턴"
      ],
      "metadata": {
        "colab": {
          "base_uri": "https://localhost:8080/"
        },
        "id": "jTTLI2gH9iLN",
        "outputId": "69d4be74-9bc9-44cf-b213-925efc961906"
      },
      "execution_count": 11,
      "outputs": [
        {
          "output_type": "execute_result",
          "data": {
            "text/plain": [
              "True"
            ]
          },
          "metadata": {},
          "execution_count": 11
        }
      ]
    },
    {
      "cell_type": "code",
      "source": [
        "bool('')  # 문자열이 비었으므로 false"
      ],
      "metadata": {
        "colab": {
          "base_uri": "https://localhost:8080/"
        },
        "id": "dmyHF-L09sCz",
        "outputId": "4b6424b5-4ad3-4c97-eaec-23f804491e02"
      },
      "execution_count": 12,
      "outputs": [
        {
          "output_type": "execute_result",
          "data": {
            "text/plain": [
              "False"
            ]
          },
          "metadata": {},
          "execution_count": 12
        }
      ]
    },
    {
      "cell_type": "code",
      "source": [
        "bool([1, 2, 3])"
      ],
      "metadata": {
        "colab": {
          "base_uri": "https://localhost:8080/"
        },
        "id": "8tCtwA3w9zgj",
        "outputId": "84fc42a6-2df8-4fd9-eb4e-261e4dc260b9"
      },
      "execution_count": 13,
      "outputs": [
        {
          "output_type": "execute_result",
          "data": {
            "text/plain": [
              "True"
            ]
          },
          "metadata": {},
          "execution_count": 13
        }
      ]
    },
    {
      "cell_type": "code",
      "source": [
        "bool([])"
      ],
      "metadata": {
        "colab": {
          "base_uri": "https://localhost:8080/"
        },
        "id": "l593_4Y-97B9",
        "outputId": "caffcf32-76e1-4578-a979-bc0dcbbab45d"
      },
      "execution_count": 14,
      "outputs": [
        {
          "output_type": "execute_result",
          "data": {
            "text/plain": [
              "False"
            ]
          },
          "metadata": {},
          "execution_count": 14
        }
      ]
    },
    {
      "cell_type": "code",
      "source": [
        "bool(0)"
      ],
      "metadata": {
        "colab": {
          "base_uri": "https://localhost:8080/"
        },
        "id": "hWxhAMOS98C9",
        "outputId": "8f38af8e-e3ca-4bc1-df72-c6f068d44abe"
      },
      "execution_count": 15,
      "outputs": [
        {
          "output_type": "execute_result",
          "data": {
            "text/plain": [
              "False"
            ]
          },
          "metadata": {},
          "execution_count": 15
        }
      ]
    },
    {
      "cell_type": "code",
      "source": [
        "bool(3)"
      ],
      "metadata": {
        "colab": {
          "base_uri": "https://localhost:8080/"
        },
        "id": "ZNCtFhcQ9871",
        "outputId": "71e7136d-0537-467c-f028-73100aa67c71"
      },
      "execution_count": 16,
      "outputs": [
        {
          "output_type": "execute_result",
          "data": {
            "text/plain": [
              "True"
            ]
          },
          "metadata": {},
          "execution_count": 16
        }
      ]
    }
  ]
}