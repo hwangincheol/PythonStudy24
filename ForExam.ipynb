{
  "nbformat": 4,
  "nbformat_minor": 0,
  "metadata": {
    "colab": {
      "provenance": [],
      "authorship_tag": "ABX9TyOdia47o+eULKyuEkTSunER",
      "include_colab_link": true
    },
    "kernelspec": {
      "name": "python3",
      "display_name": "Python 3"
    },
    "language_info": {
      "name": "python"
    }
  },
  "cells": [
    {
      "cell_type": "markdown",
      "metadata": {
        "id": "view-in-github",
        "colab_type": "text"
      },
      "source": [
        "<a href=\"https://colab.research.google.com/github/hwangincheol/PythonStudy24/blob/master/ForExam.ipynb\" target=\"_parent\"><img src=\"https://colab.research.google.com/assets/colab-badge.svg\" alt=\"Open In Colab\"/></a>"
      ]
    },
    {
      "cell_type": "markdown",
      "source": [
        "for문 연습\n",
        "\n",
        "for문은 while과 같은 반복문으로 차이점은 max가 있나 없나이다.\n",
        "\n",
        "for문은 구구단과 같이 9라는 max 값이 있을 때 사용\n",
        "while은 max가 없지만 종료되는 시점을 만들어 제공(강제 종료 ctrl + c)\n",
        "\n",
        "for 변수 in 리스트 | 튜플 | 문자열 :\n",
        "    실행문1\n",
        "    실행문2\n",
        "\n",
        "자바의 향상 for문 forEach 문과 같다."
      ],
      "metadata": {
        "id": "c3DdqQEvC6NJ"
      }
    },
    {
      "cell_type": "code",
      "source": [
        "# 전형적인 for문\n",
        "\n",
        "test_list = ['one', 'two', 'three']\n",
        "for i in test_list:\n",
        "    print(i)"
      ],
      "metadata": {
        "colab": {
          "base_uri": "https://localhost:8080/"
        },
        "id": "VYXQsbsiC9ML",
        "outputId": "0dcdafdc-44ff-432f-e10b-c97a76316707"
      },
      "execution_count": 1,
      "outputs": [
        {
          "output_type": "stream",
          "name": "stdout",
          "text": [
            "one\n",
            "two\n",
            "three\n"
          ]
        }
      ]
    },
    {
      "cell_type": "code",
      "source": [
        "# 다양한 for문 사용\n",
        "a = [(1, 2), (3, 4), (5, 6)]\n",
        "for (first, last) in a:\n",
        "    print(first + last)"
      ],
      "metadata": {
        "colab": {
          "base_uri": "https://localhost:8080/"
        },
        "id": "p-UysGCSD3l3",
        "outputId": "1b63cd87-65ec-40fe-f662-043a5f4d2467"
      },
      "execution_count": 2,
      "outputs": [
        {
          "output_type": "stream",
          "name": "stdout",
          "text": [
            "3\n",
            "7\n",
            "11\n"
          ]
        }
      ]
    },
    {
      "cell_type": "code",
      "source": [
        "# 총 5명의 학생이 시험을 보았는데 시험 점수가 60점 이상이면\n",
        "# 합격이고 그렇지 않으면 불합격이다.\n",
        "marks = [90, 25, 67, 45, 80]   # 학생별 시험 점수, 5명\n",
        "number = 0   # 학생 출력시 번호 지정\n",
        "for mark in marks:   # 리스트에 있는 객체를 앞에서부터 1개씩 가져와 mark 변수에 넣음\n",
        "    number += 1\n",
        "    if mark >= 60:\n",
        "        print(\"%d번 학생은 합격입니다.\" % number)\n",
        "    else:\n",
        "        print(\"%d번 학생은 불합격입니다.\" % number)"
      ],
      "metadata": {
        "colab": {
          "base_uri": "https://localhost:8080/"
        },
        "id": "WUjb9y8DFIAx",
        "outputId": "4d233bed-a90f-417f-9b5f-a646e8514efb"
      },
      "execution_count": 5,
      "outputs": [
        {
          "output_type": "stream",
          "name": "stdout",
          "text": [
            "1번 학생은 합격입니다.\n",
            "2번 학생은 불합격입니다.\n",
            "3번 학생은 합격입니다.\n",
            "4번 학생은 불합격입니다.\n",
            "5번 학생은 합격입니다.\n"
          ]
        }
      ]
    },
    {
      "cell_type": "code",
      "source": [
        "# for + continue\n",
        "\n",
        "marks = [90, 25, 67, 45, 80]    # 학생들의 점수 리스트\n",
        "number = 0                      # 학생번호\n",
        "for mark in marks:              # 리스트 반복문\n",
        "    number += 1                 # 학생번호 증가\n",
        "    if mark < 60:               # 점수가 < 60\n",
        "        continue                # 위로 올라감\n",
        "    print(\"%d번 학생 축하합니다. 합격입니다.\" % number) # 60이상일때 처리문"
      ],
      "metadata": {
        "colab": {
          "base_uri": "https://localhost:8080/"
        },
        "id": "EfdcutG2GjKp",
        "outputId": "8deadd5b-3f73-48ff-d873-a05c0b446dbb"
      },
      "execution_count": 6,
      "outputs": [
        {
          "output_type": "stream",
          "name": "stdout",
          "text": [
            "1번 학생 축하합니다. 합격입니다.\n",
            "3번 학생 축하합니다. 합격입니다.\n",
            "5번 학생 축하합니다. 합격입니다.\n"
          ]
        }
      ]
    },
    {
      "cell_type": "code",
      "source": [
        "# for문과 같이 자주 쓰는 range()\n",
        "\n",
        "a = range(10)   # 0부터 10 미만 숫자를 포함하는 객체를 만들어줌\n",
        "a   # 0 ~ 9까지 값을 가지고 있음"
      ],
      "metadata": {
        "colab": {
          "base_uri": "https://localhost:8080/"
        },
        "id": "N1pjPwcIKZmO",
        "outputId": "5d8336a5-082f-444c-c595-eea21af18d13"
      },
      "execution_count": 9,
      "outputs": [
        {
          "output_type": "execute_result",
          "data": {
            "text/plain": [
              "range(0, 10)"
            ]
          },
          "metadata": {},
          "execution_count": 9
        }
      ]
    },
    {
      "cell_type": "code",
      "source": [],
      "metadata": {
        "id": "Gl2gf3SMKiov"
      },
      "execution_count": null,
      "outputs": []
    },
    {
      "cell_type": "code",
      "source": [
        "a = range(1, 11)    #(시작값, 끝값 : 끝 숫자는 포함되지 않는다.)\n",
        "a   # 1 ~ 10까지 값을 가지고 있음."
      ],
      "metadata": {
        "colab": {
          "base_uri": "https://localhost:8080/"
        },
        "id": "SYkNsHU7LKUu",
        "outputId": "2c24ae5b-d62a-460c-efaa-4edc1dab4109"
      },
      "execution_count": 10,
      "outputs": [
        {
          "output_type": "execute_result",
          "data": {
            "text/plain": [
              "range(1, 11)"
            ]
          },
          "metadata": {},
          "execution_count": 10
        }
      ]
    },
    {
      "cell_type": "code",
      "source": [
        "for i in range(1, 11):\n",
        "    print(i)"
      ],
      "metadata": {
        "colab": {
          "base_uri": "https://localhost:8080/"
        },
        "id": "dU88SNxDLWM_",
        "outputId": "d9d52289-77a8-4c79-9278-e7975d731020"
      },
      "execution_count": 11,
      "outputs": [
        {
          "output_type": "stream",
          "name": "stdout",
          "text": [
            "1\n",
            "2\n",
            "3\n",
            "4\n",
            "5\n",
            "6\n",
            "7\n",
            "8\n",
            "9\n",
            "10\n"
          ]
        }
      ]
    },
    {
      "cell_type": "code",
      "source": [
        "marks = [90, 25, 67, 45, 80]\n",
        "for number in range(len(marks)):\n",
        "    if marks[number] < 60:\n",
        "        continue\n",
        "    print(\"%d번 학생 축하합니다. 합격입니다.\" % (number + 1))"
      ],
      "metadata": {
        "colab": {
          "base_uri": "https://localhost:8080/"
        },
        "id": "yTnsGSb1LdbW",
        "outputId": "5de4ac9c-c4f5-4c40-98a9-1ff792eb8e56"
      },
      "execution_count": 13,
      "outputs": [
        {
          "output_type": "stream",
          "name": "stdout",
          "text": [
            "1번 학생 축하합니다. 합격입니다.\n",
            "3번 학생 축하합니다. 합격입니다.\n",
            "5번 학생 축하합니다. 합격입니다.\n"
          ]
        }
      ]
    },
    {
      "cell_type": "code",
      "source": [
        "# 구구단을 만들어 보자 2*1 ~ 9*9 = 81\n",
        "# 다중 for문\n",
        "\n",
        "for i in range(2, 10):           # 2단 ~ 9단\n",
        "    for j in range(1, 10):       # 단마다 곱해지는 값 1 ~ 9\n",
        "        print(i * j, end = \", \") # 각 단마다 곱하고 출력\n",
        "                                 # print end 파라미터는 기본 엔터를 하지 않고 \" \" 로\n",
        "    print('')                    # 단이 끝나면 엔터 효과"
      ],
      "metadata": {
        "colab": {
          "base_uri": "https://localhost:8080/"
        },
        "id": "BUcFRECdMEEe",
        "outputId": "1135c784-3fff-4923-8960-804e4d8c9bc6"
      },
      "execution_count": 20,
      "outputs": [
        {
          "output_type": "stream",
          "name": "stdout",
          "text": [
            "2, 4, 6, 8, 10, 12, 14, 16, 18, \n",
            "3, 6, 9, 12, 15, 18, 21, 24, 27, \n",
            "4, 8, 12, 16, 20, 24, 28, 32, 36, \n",
            "5, 10, 15, 20, 25, 30, 35, 40, 45, \n",
            "6, 12, 18, 24, 30, 36, 42, 48, 54, \n",
            "7, 14, 21, 28, 35, 42, 49, 56, 63, \n",
            "8, 16, 24, 32, 40, 48, 56, 64, 72, \n",
            "9, 18, 27, 36, 45, 54, 63, 72, 81, \n"
          ]
        }
      ]
    },
    {
      "cell_type": "code",
      "source": [],
      "metadata": {
        "id": "tDr99PQAMp1_"
      },
      "execution_count": null,
      "outputs": []
    },
    {
      "cell_type": "code",
      "source": [
        "# 리스트 컴프리헨션 -> 결과를 리스트로 저장\n",
        "\n",
        "#리스트 컴프리 헨션을 사용하지 않는 방법\n",
        "a = [1, 2, 3, 4]    # 입력 리스트 값\n",
        "result = []         # 출력 리스트 값\n",
        "for num in a:       # 입력 리스트 값을 1개씩 가져와 num에 넣음\n",
        "    result.append(num * 3)  # 출력 리스트 값에 3을 곱해 추가(.append)\n",
        "print(result)   # 반복 후에 출력"
      ],
      "metadata": {
        "colab": {
          "base_uri": "https://localhost:8080/"
        },
        "id": "nAjj8zINNb_r",
        "outputId": "9ab20e2a-53bd-4231-d274-8be17a90b72e"
      },
      "execution_count": 21,
      "outputs": [
        {
          "output_type": "stream",
          "name": "stdout",
          "text": [
            "[3, 6, 9, 12]\n"
          ]
        }
      ]
    },
    {
      "cell_type": "code",
      "source": [
        "a = [1, 2, 3, 4]\n",
        "result = [num * 3 for num in a] # 변수 = [실행문 for 변수 in 배열] 리스트화\n",
        "print(result)"
      ],
      "metadata": {
        "colab": {
          "base_uri": "https://localhost:8080/"
        },
        "id": "9URs-2jkOgxT",
        "outputId": "3e8b643c-4c1c-4c7d-f4ff-ae8ba29735ef"
      },
      "execution_count": 22,
      "outputs": [
        {
          "output_type": "stream",
          "name": "stdout",
          "text": [
            "[3, 6, 9, 12]\n"
          ]
        }
      ]
    },
    {
      "cell_type": "code",
      "source": [
        "# 짝수만 3을 곱해서 리스트에 담고 싶다.\n",
        "a = [1, 2, 3, 4]\n",
        "result = [num * 3 for num in a if num % 2 == 0]\n",
        "# 결과배열 = 실행문 for        if 조건\n",
        "print(result)"
      ],
      "metadata": {
        "colab": {
          "base_uri": "https://localhost:8080/"
        },
        "id": "u9pjCs6dOtlu",
        "outputId": "61ff06ee-a273-4c5d-976f-dc2fde8648c7"
      },
      "execution_count": 25,
      "outputs": [
        {
          "output_type": "stream",
          "name": "stdout",
          "text": [
            "[6, 12]\n"
          ]
        }
      ]
    },
    {
      "cell_type": "code",
      "source": [
        "from typing_extensions import NamedTuple\n",
        "# 미션 전에 만든 커피자판기를 리스트화 해서 for문으로 구현\n",
        "\n",
        "# 커피 종류가 5개 (커피명, 수량, 단가)\n",
        "# 사용자 커피를 반복 구매\n",
        "# 관리자가 판매종료 후 통계\n",
        "\n",
        "# 음료 리스트 (이름, 수량, 가격)\n",
        "#drink = [[\"음료1\", 10, 300], [\"음료2\", 10, 400], [\"음료3\", 10, 500], [\"음료4\", 10, 600], [\"음료5\", 10, 700]]\n",
        "totalMoney = 0  # 넣은 금액\n",
        "sumPrice = 0    # 판매 총액\n",
        "\n",
        "print(\"== 자판기 프로그램을 시작합니다 ==\")\n",
        "print(\">> 총 5개 음료의 이름, 수량, 가격을 입력해주세요 <<\")\n",
        "drink = [[\" \", 0, 0] for _ in range(5)]\n",
        "for a in range(0,5):\n",
        "    drink[a][0] = input(f\"\\n {a + 1}번째 음료 이름을 입력해주세요 : \")\n",
        "    while True:\n",
        "\n",
        "        drink[a][1] = input(f\"{a + 1}번째 음료 수량을 입력해주세요 : \")\n",
        "        if drink[a][1].isdigit():\n",
        "            drink[a][1] = int(drink[a][1])\n",
        "            break\n",
        "        else:\n",
        "            print(\"가격은 숫자만 입력 가능합니다. 다시 입력해주세요.\")\n",
        "\n",
        "    while True:\n",
        "        drink[a][2] = input(f\"{a + 1}번째 음료 가격을 입력해주세요 : \")\n",
        "        if drink[a][2].isdigit():\n",
        "            drink[a][2] = int(drink[a][2])\n",
        "            break\n",
        "        else:\n",
        "            print(\"수량은 숫자만 입력 가능합니다. 다시 입력해주세요.\")\n",
        "\n",
        "    print(f\"\\n>> {a + 1}. {drink[a][0]}, {drink[a][1]}개, {drink[a][2]}원\")\n",
        "\n",
        "print(\"\\n\\n>> 입력이 완료 되었습니다. 영업을 시작합니다. <<\")\n",
        "\n",
        "\n",
        "while True:\n",
        "    prompt1 = f\"\"\"\n",
        "    - 금액 투입 단계-\n",
        "    =======================================\n",
        "    | 1. {drink[0][0]} {drink[0][2]}원   | 2. {drink[1][0]} {drink[1][2]}원   |\n",
        "    =======================================\n",
        "    | 3. {drink[2][0]} {drink[2][2]}원   | 4. {drink[3][0]} {drink[3][2]}원   |\n",
        "    =======================================\n",
        "    | 5. {drink[4][0]} {drink[4][2]}원   |                  |\n",
        "    =======================================\n",
        "\n",
        "    구매하기전 원하는 만큼 금액을 투입하고\n",
        "            '구매'를 입력해주세요.\n",
        "    돈을 회수 하시려면 '반환'을 입력해주세요.\n",
        "    =======================================\n",
        "    \"\"\"\n",
        "\n",
        "    prompt2 = f\"\"\"\n",
        "    - 음료 구매 단계 -\n",
        "    =======================================\n",
        "    | 1. {drink[0][0]} {drink[0][2]}원   | 2. {drink[1][0]} {drink[1][2]}원   |\n",
        "    =======================================\n",
        "    | 3. {drink[2][0]} {drink[2][2]}원   | 4. {drink[3][0]} {drink[3][2]}원   |\n",
        "    =======================================\n",
        "    | 5. {drink[4][0]} {drink[4][2]}원   |                  |\n",
        "    =======================================\n",
        "\n",
        "        구매가 끝나셨으면 거스름 돈\n",
        "            '반환'을 입력해주세요.\n",
        "    =======================================\n",
        "    \"\"\"\n",
        "\n",
        "    print(\"\\n\\n\")\n",
        "    print(prompt1)\n",
        "    print(\" >>>    현재 잔액 : %d원\" % totalMoney)\n",
        "    money = input(\"\\n 얼마를 넣을까요? : \")\n",
        "    if money == \"종료\":\n",
        "        print(\"\\n\\n\\n 프로그램을 종료합니다.\")\n",
        "        break\n",
        "    elif money == \"관리자\":\n",
        "        while True:\n",
        "            print(\"\\n\\n\\n===============================================================\")\n",
        "            print(\"                  관리자 모드를 실행합니다 \")\n",
        "            print(\"                >>> 판매 총액 : %d원<<<\" % sumPrice)\n",
        "            print(\"===============================================================\")\n",
        "            print(f\" 1.{drink[0][0]}({drink[0][1]}개), 2.{drink[1][0]}({drink[1][1]}개), 3.{drink[2][0]}({drink[2][1]}개), 4.{drink[3][0]}({drink[3][1]}개), 5.{drink[4][0]}({drink[4][1]}개)\")\n",
        "            print(\"===============================================================\")\n",
        "            print(\"| 1 ~ 5. 수정하고싶은 음료의 번호를 눌러주세요  | 0. 돌아가기 |\")\n",
        "            print(\"===============================================================\")\n",
        "            input2 = input(\"\\n원하시는 메뉴를 선택해주세요 : \")\n",
        "            if input2 == '0': break\n",
        "            elif input2 == '1' or input2 == '2' or input2 == '3' or input2 == '4' or input2 == '5':\n",
        "                x = int(input2) - 1\n",
        "                print(\"\\n\\n\\n============================================================\")\n",
        "                print(f\"              {drink[x][0]} 를 수정합니다.\")\n",
        "                print(\"============================================================\")\n",
        "                drink[x][0] = input(\"\\n 새로운 음료명을 입력해주세요 : \")\n",
        "                drink[x][1] = input(\"\\n 새로운 수량을 입력해주세요 : \")\n",
        "                drink[x][2] = input(\"\\n 새로운 가격을 입력해주세요 : \")\n",
        "            else: print(\"\\n\\n\\n!!!!!! 잘못 입력하셨습니다. !!!!!!\")\n",
        "    elif money == \"반환\":\n",
        "                print(\"\\n\\n\\n 거스름돈 %d원을 반환합니다.\" % totalMoney)\n",
        "                print(\" 이용 해주셔서 감사합니다 ^^\")\n",
        "                totalMoney = 0\n",
        "    elif money == \"구매\":\n",
        "        while True:\n",
        "            if totalMoney == 0:\n",
        "                print(\"\\n >>> 구매를 원하시면 잔액을 넣어주세요.\")\n",
        "                break\n",
        "            print(\"\\n\\n\")\n",
        "            print(prompt2)\n",
        "            print(\" >>>    현재 잔액 : %d원\" % totalMoney)\n",
        "            input1 = input(\"\\n 구매하고 싶은 음료의 번호를 입력해주세요 : \")\n",
        "            print(\"\\n\\n\\n >>> \")\n",
        "            if input1 == \"반환\":\n",
        "                print(\" 거스름돈 %d원을 반환합니다.\" % totalMoney)\n",
        "                print(\" 이용 해주셔서 감사합니다 ^^\")\n",
        "                totalMoney = 0\n",
        "                break\n",
        "            elif input1 == '1' or input1 == '2' or input1 == '3' or input1 == '4' or input1 == '5':\n",
        "                i = int(input1) - 1\n",
        "                if totalMoney >= drink[i][2]:\n",
        "                    if drink[i][1] > 0:\n",
        "                        drink[i][1] -= 1\n",
        "                        totalMoney = totalMoney - drink[i][2]\n",
        "                        sumPrice = sumPrice + drink[i][2]\n",
        "                        print(f\">>> {drink[i][0]}을 구매합니다.\")\n",
        "                    else: print(f\">>> {drink[i][0]}은 현재 품절입니다.\")\n",
        "                else: print(\">>> 금액이 부족합니다.\")\n",
        "            else: print(\"\\n\\n\\n!!!!!! 잘못 입력하셨습니다. !!!!!!\")\n",
        "    elif not money.isdigit(): print(\"\\n\\n\\n!!!!!! 잘못 입력하셨습니다. !!!!!!\")\n",
        "    else : totalMoney = totalMoney + int(money)"
      ],
      "metadata": {
        "colab": {
          "base_uri": "https://localhost:8080/",
          "height": 1000
        },
        "id": "jLSB05BCPyZ_",
        "outputId": "a6462fb3-f569-47cc-fcce-dd0d133f9be1"
      },
      "execution_count": 64,
      "outputs": [
        {
          "output_type": "stream",
          "name": "stdout",
          "text": [
            "== 자판기 프로그램을 시작합니다 ==\n",
            ">> 총 5개 음료의 이름, 수량, 가격을 입력해주세요 <<\n",
            "\n",
            " 1번째 음료 이름을 입력해주세요 : 1\n",
            "1번째 음료 수량을 입력해주세요 : ㅁ\n",
            "가격은 숫자만 입력 가능합니다. 다시 입력해주세요.\n",
            "1번째 음료 수량을 입력해주세요 : 10\n",
            "1번째 음료 가격을 입력해주세요 : ㅁ\n",
            "수량은 숫자만 입력 가능합니다. 다시 입력해주세요.\n",
            "1번째 음료 가격을 입력해주세요 : 300\n",
            "\n",
            ">> 1. 1, 10개, 300원\n",
            "\n",
            " 2번째 음료 이름을 입력해주세요 : 2\n",
            "2번째 음료 수량을 입력해주세요 : 2\n",
            "2번째 음료 가격을 입력해주세요 : 2\n",
            "\n",
            ">> 2. 2, 2개, 2원\n",
            "\n",
            " 3번째 음료 이름을 입력해주세요 : 3\n",
            "3번째 음료 수량을 입력해주세요 : 3\n",
            "3번째 음료 가격을 입력해주세요 : 3\n",
            "\n",
            ">> 3. 3, 3개, 3원\n",
            "\n",
            " 4번째 음료 이름을 입력해주세요 : 4\n",
            "4번째 음료 수량을 입력해주세요 : 4\n",
            "4번째 음료 가격을 입력해주세요 : 4\n",
            "\n",
            ">> 4. 4, 4개, 4원\n",
            "\n",
            " 5번째 음료 이름을 입력해주세요 : 5\n",
            "5번째 음료 수량을 입력해주세요 : 5\n",
            "5번째 음료 가격을 입력해주세요 : 5\n",
            "\n",
            ">> 5. 5, 5개, 5원\n",
            "\n",
            "\n",
            ">> 입력이 완료 되었습니다. 영업을 시작합니다. <<\n",
            "\n",
            "\n",
            "\n",
            "\n",
            "    - 금액 투입 단계-\n",
            "    =======================================\n",
            "    | 1. 1 300원   | 2. 2 2원   |\n",
            "    =======================================\n",
            "    | 3. 3 3원   | 4. 4 4원   |\n",
            "    =======================================\n",
            "    | 5. 5 5원   |                  |\n",
            "    =======================================\n",
            "\n",
            "    구매하기전 원하는 만큼 금액을 투입하고\n",
            "            '구매'를 입력해주세요.\n",
            "    돈을 회수 하시려면 '반환'을 입력해주세요.     \n",
            "    =======================================\n",
            "    \n",
            " >>>    현재 잔액 : 0원\n"
          ]
        }
      ]
    }
  ]
}
