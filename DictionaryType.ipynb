{
  "nbformat": 4,
  "nbformat_minor": 0,
  "metadata": {
    "colab": {
      "provenance": [],
      "authorship_tag": "ABX9TyP0hVuk2OQwVy9LFD6PpFMf",
      "include_colab_link": true
    },
    "kernelspec": {
      "name": "python3",
      "display_name": "Python 3"
    },
    "language_info": {
      "name": "python"
    }
  },
  "cells": [
    {
      "cell_type": "markdown",
      "metadata": {
        "id": "view-in-github",
        "colab_type": "text"
      },
      "source": [
        "<a href=\"https://colab.research.google.com/github/hwangincheol/PythonStudy24/blob/master/DictionaryType.ipynb\" target=\"_parent\"><img src=\"https://colab.research.google.com/assets/colab-badge.svg\" alt=\"Open In Colab\"/></a>"
      ]
    },
    {
      "cell_type": "markdown",
      "source": [
        "딕셔너리는 단어 그대로 ‘사전’이라는 뜻이다. 즉 \"people\"이라는 단어에 \"사람\", \"baseball\"이라는 단어에 \"야구\"라는 뜻이 부합되듯이 딕셔너리는 Key와 Value를 한 쌍으로 가지는 자료형이다. 예컨대 Key가 \"baseball\"이라면 Value는 \"야구\"가 될 것이다.딕셔너리는 리스트나 튜플처럼 순차적으로(sequential) 해당 요솟값을 구하지 않고 Key를 통해 Value를 얻는다. 이것이 바로 딕셔너리의 가장 큰 특징이다. baseball이라는 단어의 뜻을 찾기 위해 사전의 내용을 순차적으로 모두 검색하는 것이 아니라 baseball이라는 단어가 있는 곳만 펼쳐 보는 것이다."
      ],
      "metadata": {
        "id": "t5b_cbbun25S"
      }
    },
    {
      "cell_type": "code",
      "execution_count": 5,
      "metadata": {
        "colab": {
          "base_uri": "https://localhost:8080/"
        },
        "id": "enb6sY3MnrJz",
        "outputId": "ced7759d-5d15-414e-a302-ce3cc3656a51"
      },
      "outputs": [
        {
          "output_type": "execute_result",
          "data": {
            "text/plain": [
              "{'name': 'pey', 'phone': '010-9999-1234', 'birth': '1118'}"
            ]
          },
          "metadata": {},
          "execution_count": 5
        }
      ],
      "source": [
        "dic = {'name': 'pey', 'phone': '010-9999-1234', 'birth': '1118'}\n",
        "dic"
      ]
    },
    {
      "cell_type": "code",
      "source": [
        "a = {1: 'hi'}\n",
        "a"
      ],
      "metadata": {
        "colab": {
          "base_uri": "https://localhost:8080/"
        },
        "id": "XAGh5T0ZoRSh",
        "outputId": "7b8d3427-3a2e-4d0e-ae57-aa69cac5ede6"
      },
      "execution_count": 4,
      "outputs": [
        {
          "output_type": "execute_result",
          "data": {
            "text/plain": [
              "{1: 'hi'}"
            ]
          },
          "metadata": {},
          "execution_count": 4
        }
      ]
    },
    {
      "cell_type": "code",
      "source": [
        "a = {'a':[1, 2, 3]}\n",
        "a"
      ],
      "metadata": {
        "colab": {
          "base_uri": "https://localhost:8080/"
        },
        "id": "bzQ231WxobQG",
        "outputId": "0797d320-3304-4da3-a161-36b17d4be1dd"
      },
      "execution_count": 6,
      "outputs": [
        {
          "output_type": "execute_result",
          "data": {
            "text/plain": [
              "{'a': [1, 2, 3]}"
            ]
          },
          "metadata": {},
          "execution_count": 6
        }
      ]
    },
    {
      "cell_type": "code",
      "source": [
        "# 딕셔너리 쌍 추가, 삭제하기\n",
        "a = {1 : 'a'}\n",
        "a[2] = 'b'\n",
        "a # {1: 'a', 2: 'b'}"
      ],
      "metadata": {
        "colab": {
          "base_uri": "https://localhost:8080/"
        },
        "id": "hzlc36FHohGX",
        "outputId": "2667cc3e-fdb4-4e49-f795-169ddb9e0030"
      },
      "execution_count": 7,
      "outputs": [
        {
          "output_type": "execute_result",
          "data": {
            "text/plain": [
              "{1: 'a', 2: 'b'}"
            ]
          },
          "metadata": {},
          "execution_count": 7
        }
      ]
    },
    {
      "cell_type": "code",
      "source": [
        "a['name'] = 'pey'\n",
        "a # {1: 'a', 2: 'b', 'name': 'pey'}"
      ],
      "metadata": {
        "colab": {
          "base_uri": "https://localhost:8080/"
        },
        "id": "2IUMxy7_pAQX",
        "outputId": "b017359f-9376-4725-c1c1-f0cd793ece28"
      },
      "execution_count": 8,
      "outputs": [
        {
          "output_type": "execute_result",
          "data": {
            "text/plain": [
              "{1: 'a', 2: 'b', 'name': 'pey'}"
            ]
          },
          "metadata": {},
          "execution_count": 8
        }
      ]
    },
    {
      "cell_type": "code",
      "source": [
        "a[3] = [1, 2, 3]\n",
        "a # {1: 'a', 2: 'b', 'name': 'pey', 3: [1, 2, 3]}"
      ],
      "metadata": {
        "colab": {
          "base_uri": "https://localhost:8080/"
        },
        "id": "YGidzTbcpTGg",
        "outputId": "2b61b7ff-abb7-4e33-c694-74133497ff30"
      },
      "execution_count": 9,
      "outputs": [
        {
          "output_type": "execute_result",
          "data": {
            "text/plain": [
              "{1: 'a', 2: 'b', 'name': 'pey', 3: [1, 2, 3]}"
            ]
          },
          "metadata": {},
          "execution_count": 9
        }
      ]
    },
    {
      "cell_type": "code",
      "source": [
        "# 딕셔너리 요소 삭제하기\n",
        "del a[1]  # del a[key]를 입력하면 지정한 key에 해당하는 {Key: Value} 쌍이 삭제된다.\n",
        "a # {2: 'b', 'name': 'pey', 3: [1, 2, 3]}"
      ],
      "metadata": {
        "colab": {
          "base_uri": "https://localhost:8080/"
        },
        "id": "2sNh56gBpeWn",
        "outputId": "9c01d62b-1973-452d-cae2-a15813d9f7da"
      },
      "execution_count": 10,
      "outputs": [
        {
          "output_type": "execute_result",
          "data": {
            "text/plain": [
              "{2: 'b', 'name': 'pey', 3: [1, 2, 3]}"
            ]
          },
          "metadata": {},
          "execution_count": 10
        }
      ]
    },
    {
      "cell_type": "code",
      "source": [
        "# 딕셔너리에서 Key를 사용해 Value 얻기\n",
        "grade = {'pey': 10, 'julliet': 99}\n",
        "print(grade['pey'])      # 10\n",
        "print(grade['julliet'])  # 99"
      ],
      "metadata": {
        "colab": {
          "base_uri": "https://localhost:8080/"
        },
        "id": "PU4Divj_pmBB",
        "outputId": "f20e7ab8-cab0-4c7d-becd-fecb82c85f94"
      },
      "execution_count": 12,
      "outputs": [
        {
          "output_type": "stream",
          "name": "stdout",
          "text": [
            "10\n",
            "99\n"
          ]
        }
      ]
    },
    {
      "cell_type": "code",
      "source": [
        "a = {1 : 'a', 2 : 'b'}\n",
        "print(a[1]) # a\n",
        "print(a[2]) # b\n",
        "# 딕셔너리는 리스트나 튜플에 있는 인덱싱 방법을 적용할 수 없다. 따라서 a[1]은 딕셔너리 {1: 'a', 2: 'b'}에서 Key가 1인 것의 Value인 'a'를 리턴한다."
      ],
      "metadata": {
        "colab": {
          "base_uri": "https://localhost:8080/"
        },
        "id": "gfCpKXIkqPt4",
        "outputId": "b31c8454-fa72-4404-d370-1e005e049b38"
      },
      "execution_count": 13,
      "outputs": [
        {
          "output_type": "stream",
          "name": "stdout",
          "text": [
            "a\n",
            "b\n"
          ]
        }
      ]
    },
    {
      "cell_type": "code",
      "source": [
        "dic = {'name':'pey', 'phone':'010-9999-1234', 'birth': '1118'}\n",
        "print(dic['name'])  # pey\n",
        "print(dic['phone']) # 010-9999-1234\n",
        "print(dic['birth']) # 1118"
      ],
      "metadata": {
        "colab": {
          "base_uri": "https://localhost:8080/"
        },
        "id": "dIBSo0xEqbYW",
        "outputId": "e5acc01f-c6a7-47a5-9382-debf0d553a01"
      },
      "execution_count": 14,
      "outputs": [
        {
          "output_type": "stream",
          "name": "stdout",
          "text": [
            "pey\n",
            "010-9999-1234\n",
            "1118\n"
          ]
        }
      ]
    },
    {
      "cell_type": "code",
      "source": [
        "# 딕셔너리를 만들 때 주의할 사항\n",
        "# 딕셔너리에서 Key는 고유한 값이므로 중복되는 Key 값을 설정해 놓으면 하나를 제외한 나머지 것들이 모두 무시된다는 점에 주의해야 한다.\n",
        "\n",
        "# 동일한 Key가 2개 존재할 경우, 1 : 'a' 쌍이 무시된다.\n",
        "a = {1 : 'a', 1 : 'b'}\n",
        "a # {1: 'b'}\n",
        "# 딕셔너리는 동일한 Key가 중복으로 존재할 수 없다. 만약 동일한 경우 나중에 있는게 나온다."
      ],
      "metadata": {
        "colab": {
          "base_uri": "https://localhost:8080/"
        },
        "id": "3hpjJXvjrKH4",
        "outputId": "f5dda9cb-3e19-44c6-eeed-d986771579e1"
      },
      "execution_count": 16,
      "outputs": [
        {
          "output_type": "execute_result",
          "data": {
            "text/plain": [
              "{1: 'b'}"
            ]
          },
          "metadata": {},
          "execution_count": 16
        }
      ]
    },
    {
      "cell_type": "code",
      "source": [
        "# Key에 리스트는 쓸 수 없다. 하지만 튜플은 Key로 쓸 수 있다.\n",
        "# 딕셔너리의 Key로 쓸 수 있느냐, 없느냐는 Key가 변하는 값인지, 변하지 않는 값인지에 달려 있다.\n",
        "a = {[1,2] : 'hi'}  # 오류\n",
        "\n",
        "# 단, Value에는 변하는 값이든, 변하지 않는 값이든 아무 값이나 넣을 수 있다."
      ],
      "metadata": {
        "colab": {
          "base_uri": "https://localhost:8080/",
          "height": 184
        },
        "id": "O5u9unTDrgJg",
        "outputId": "b9aaa61f-ab56-4d39-84a5-b34afef9c9a2"
      },
      "execution_count": 19,
      "outputs": [
        {
          "output_type": "error",
          "ename": "TypeError",
          "evalue": "unhashable type: 'list'",
          "traceback": [
            "\u001b[0;31m---------------------------------------------------------------------------\u001b[0m",
            "\u001b[0;31mTypeError\u001b[0m                                 Traceback (most recent call last)",
            "\u001b[0;32m<ipython-input-19-d41ae9932ba7>\u001b[0m in \u001b[0;36m<cell line: 3>\u001b[0;34m()\u001b[0m\n\u001b[1;32m      1\u001b[0m \u001b[0;31m# Key에 리스트는 쓸 수 없다. 하지만 튜플은 Key로 쓸 수 있다.\u001b[0m\u001b[0;34m\u001b[0m\u001b[0;34m\u001b[0m\u001b[0m\n\u001b[1;32m      2\u001b[0m \u001b[0;31m# 딕셔너리의 Key로 쓸 수 있느냐, 없느냐는 Key가 변하는 값인지, 변하지 않는 값인지에 달려 있다.\u001b[0m\u001b[0;34m\u001b[0m\u001b[0;34m\u001b[0m\u001b[0m\n\u001b[0;32m----> 3\u001b[0;31m \u001b[0ma\u001b[0m \u001b[0;34m=\u001b[0m \u001b[0;34m{\u001b[0m\u001b[0;34m[\u001b[0m\u001b[0;36m1\u001b[0m\u001b[0;34m,\u001b[0m\u001b[0;36m2\u001b[0m\u001b[0;34m]\u001b[0m \u001b[0;34m:\u001b[0m \u001b[0;34m'hi'\u001b[0m\u001b[0;34m}\u001b[0m  \u001b[0;31m# 오류\u001b[0m\u001b[0;34m\u001b[0m\u001b[0;34m\u001b[0m\u001b[0m\n\u001b[0m",
            "\u001b[0;31mTypeError\u001b[0m: unhashable type: 'list'"
          ]
        }
      ]
    },
    {
      "cell_type": "code",
      "source": [
        "# 딕셔너리 관련 함수\n",
        "\n",
        "# Key 리스트 만들기 .keys()\n",
        "a = {'name': 'pey', 'phone': '010-9999-1234', 'birth': '1118'}\n",
        "a.keys()  # a.keys()는 딕셔너리 a의 Key만을 모아 dict_keys 객체를 리턴한다."
      ],
      "metadata": {
        "colab": {
          "base_uri": "https://localhost:8080/"
        },
        "id": "t-CdA2t-swhq",
        "outputId": "a142a2d7-4038-4450-8c78-fc1749fca246"
      },
      "execution_count": 20,
      "outputs": [
        {
          "output_type": "execute_result",
          "data": {
            "text/plain": [
              "dict_keys(['name', 'phone', 'birth'])"
            ]
          },
          "metadata": {},
          "execution_count": 20
        }
      ]
    },
    {
      "cell_type": "code",
      "source": [
        "for k in a.keys():\n",
        "  print(k)  # print(k) 입력 시 들여쓰기 해야 함"
      ],
      "metadata": {
        "colab": {
          "base_uri": "https://localhost:8080/"
        },
        "id": "lwiuXgnJtApX",
        "outputId": "a095611c-0255-41bf-ba29-097247c3ca52"
      },
      "execution_count": 21,
      "outputs": [
        {
          "output_type": "stream",
          "name": "stdout",
          "text": [
            "name\n",
            "phone\n",
            "birth\n"
          ]
        }
      ]
    },
    {
      "cell_type": "code",
      "source": [
        "# dict_객체를 리스트로 변환\n",
        "list(a.keys())"
      ],
      "metadata": {
        "colab": {
          "base_uri": "https://localhost:8080/"
        },
        "id": "QsGhhhC5tYOW",
        "outputId": "5f1ce732-dd5a-4a54-a0ac-3c5e36e011da"
      },
      "execution_count": 22,
      "outputs": [
        {
          "output_type": "execute_result",
          "data": {
            "text/plain": [
              "['name', 'phone', 'birth']"
            ]
          },
          "metadata": {},
          "execution_count": 22
        }
      ]
    },
    {
      "cell_type": "code",
      "source": [
        "# Value 리스트 만들기 .values()\n",
        "a.values()"
      ],
      "metadata": {
        "colab": {
          "base_uri": "https://localhost:8080/"
        },
        "id": "udc6fbrWtqG-",
        "outputId": "90eb4c81-5835-40f6-ffc3-88ec55bd26a8"
      },
      "execution_count": 23,
      "outputs": [
        {
          "output_type": "execute_result",
          "data": {
            "text/plain": [
              "dict_values(['pey', '010-9999-1234', '1118'])"
            ]
          },
          "metadata": {},
          "execution_count": 23
        }
      ]
    },
    {
      "cell_type": "code",
      "source": [
        "# Key, Value 쌍 얻기 .items()\n",
        "a.items()"
      ],
      "metadata": {
        "colab": {
          "base_uri": "https://localhost:8080/"
        },
        "id": "euJKkZJluCv5",
        "outputId": "7741cdad-2776-4dc0-bd96-0d3e130ba400"
      },
      "execution_count": 24,
      "outputs": [
        {
          "output_type": "execute_result",
          "data": {
            "text/plain": [
              "dict_items([('name', 'pey'), ('phone', '010-9999-1234'), ('birth', '1118')])"
            ]
          },
          "metadata": {},
          "execution_count": 24
        }
      ]
    },
    {
      "cell_type": "code",
      "source": [
        "# Key, Value 쌍 모두 지우기 .clear()\n",
        "a.clear() # clear 함수는 딕셔너리 안의 모든 요소를 삭제한다.\n",
        "a"
      ],
      "metadata": {
        "colab": {
          "base_uri": "https://localhost:8080/"
        },
        "id": "8WJCiaYRuRCm",
        "outputId": "4dc48264-9d0c-41f8-cd74-227264f86d6a"
      },
      "execution_count": 26,
      "outputs": [
        {
          "output_type": "execute_result",
          "data": {
            "text/plain": [
              "{}"
            ]
          },
          "metadata": {},
          "execution_count": 26
        }
      ]
    },
    {
      "cell_type": "code",
      "source": [
        "# Key로 Value 얻기 .get()\n",
        "a = {'name': 'pey', 'phone': '010-9999-1234', 'birth': '1118'}\n",
        "a.get('name') # a.get('name')은 a['name']을 사용했을 때와 동일한 결괏값을 리턴한다."
      ],
      "metadata": {
        "colab": {
          "base_uri": "https://localhost:8080/",
          "height": 35
        },
        "id": "-pdI_z-_uY4O",
        "outputId": "a3a049da-1b47-4932-a7f4-05cfad88063b"
      },
      "execution_count": 27,
      "outputs": [
        {
          "output_type": "execute_result",
          "data": {
            "text/plain": [
              "'pey'"
            ],
            "application/vnd.google.colaboratory.intrinsic+json": {
              "type": "string"
            }
          },
          "metadata": {},
          "execution_count": 27
        }
      ]
    },
    {
      "cell_type": "code",
      "source": [
        "a.get('phone')"
      ],
      "metadata": {
        "colab": {
          "base_uri": "https://localhost:8080/",
          "height": 35
        },
        "id": "hormN-jvwbi_",
        "outputId": "e923cf06-045f-44c0-ae12-63595b8c4e75"
      },
      "execution_count": 28,
      "outputs": [
        {
          "output_type": "execute_result",
          "data": {
            "text/plain": [
              "'010-9999-1234'"
            ],
            "application/vnd.google.colaboratory.intrinsic+json": {
              "type": "string"
            }
          },
          "metadata": {},
          "execution_count": 28
        }
      ]
    },
    {
      "cell_type": "code",
      "source": [
        "# 다만, a['nokey']처럼 딕셔너리에 존재하지 않는 키로 값을 가져오려고 할 경우,\n",
        "# a['nokey'] 방식은 오류를 발생시키고 a.get('nokey') 방식은 None을 리턴한다는 차이가 있다.\n",
        "a = {'name':'pey', 'phone':'010-9999-1234', 'birth': '1118'}\n",
        "print(a.get('nokey')) # None"
      ],
      "metadata": {
        "colab": {
          "base_uri": "https://localhost:8080/"
        },
        "id": "nrnSRSoJwdof",
        "outputId": "4ea2cff0-016c-43e2-9958-53f1ad312eca"
      },
      "execution_count": 29,
      "outputs": [
        {
          "output_type": "stream",
          "name": "stdout",
          "text": [
            "None\n"
          ]
        }
      ]
    },
    {
      "cell_type": "code",
      "source": [
        "# 오류\n",
        "print(a['nokey’])"
      ],
      "metadata": {
        "colab": {
          "base_uri": "https://localhost:8080/",
          "height": 110
        },
        "id": "Xeb0ae13w-ae",
        "outputId": "2780a725-078f-404a-9637-ce3cb3ea0cc2"
      },
      "execution_count": 30,
      "outputs": [
        {
          "output_type": "error",
          "ename": "SyntaxError",
          "evalue": "unterminated string literal (detected at line 1) (<ipython-input-30-654bcff6c6c7>, line 1)",
          "traceback": [
            "\u001b[0;36m  File \u001b[0;32m\"<ipython-input-30-654bcff6c6c7>\"\u001b[0;36m, line \u001b[0;32m1\u001b[0m\n\u001b[0;31m    print(a['nokey’])\u001b[0m\n\u001b[0m            ^\u001b[0m\n\u001b[0;31mSyntaxError\u001b[0m\u001b[0;31m:\u001b[0m unterminated string literal (detected at line 1)\n"
          ]
        }
      ]
    },
    {
      "cell_type": "code",
      "source": [
        "# 딕셔너리 안에 찾으려는 Key가 없을 경우, 미리 정해 둔 디폴트 값을 대신 가져오게 하고 싶을 때는 get(x, '디폴트 값')을 사용하면 편리하다.\n",
        "a.get('nokey', 'foo') # 'foo'"
      ],
      "metadata": {
        "colab": {
          "base_uri": "https://localhost:8080/",
          "height": 35
        },
        "id": "jE7Sbn4axDh1",
        "outputId": "a7bf0c8d-350b-49c3-e18e-6b240a16424b"
      },
      "execution_count": 31,
      "outputs": [
        {
          "output_type": "execute_result",
          "data": {
            "text/plain": [
              "'foo'"
            ],
            "application/vnd.google.colaboratory.intrinsic+json": {
              "type": "string"
            }
          },
          "metadata": {},
          "execution_count": 31
        }
      ]
    },
    {
      "cell_type": "code",
      "source": [
        "# Key가 딕셔너리 안에 있는지 조사하기 in\n",
        "a = {'name':'pey', 'phone':'010-9999-1234', 'birth': '1118'}\n",
        "'name' in a"
      ],
      "metadata": {
        "colab": {
          "base_uri": "https://localhost:8080/"
        },
        "id": "QcXN1GPSxVy2",
        "outputId": "0e495396-5bcd-4b91-cc7a-cf47b7d8fd5f"
      },
      "execution_count": 33,
      "outputs": [
        {
          "output_type": "execute_result",
          "data": {
            "text/plain": [
              "True"
            ]
          },
          "metadata": {},
          "execution_count": 33
        }
      ]
    },
    {
      "cell_type": "code",
      "source": [
        "'email' in a"
      ],
      "metadata": {
        "colab": {
          "base_uri": "https://localhost:8080/"
        },
        "id": "G0hlByNmxihF",
        "outputId": "b01dde12-f250-4a9d-8700-7670723fdfaa"
      },
      "execution_count": 34,
      "outputs": [
        {
          "output_type": "execute_result",
          "data": {
            "text/plain": [
              "False"
            ]
          },
          "metadata": {},
          "execution_count": 34
        }
      ]
    }
  ]
}