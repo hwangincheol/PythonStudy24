{
  "nbformat": 4,
  "nbformat_minor": 0,
  "metadata": {
    "colab": {
      "provenance": [],
      "authorship_tag": "ABX9TyPfFbs+0LIqwMXWtxe/cpz5",
      "include_colab_link": true
    },
    "kernelspec": {
      "name": "python3",
      "display_name": "Python 3"
    },
    "language_info": {
      "name": "python"
    }
  },
  "cells": [
    {
      "cell_type": "markdown",
      "metadata": {
        "id": "view-in-github",
        "colab_type": "text"
      },
      "source": [
        "<a href=\"https://colab.research.google.com/github/hwangincheol/PythonStudy24/blob/master/%EB%B3%80%EC%88%98.ipynb\" target=\"_parent\"><img src=\"https://colab.research.google.com/assets/colab-badge.svg\" alt=\"Open In Colab\"/></a>"
      ]
    },
    {
      "cell_type": "markdown",
      "source": [
        "자료형의 값을 저장하는 공간, 변수"
      ],
      "metadata": {
        "id": "hloi42enBnuy"
      }
    },
    {
      "cell_type": "code",
      "execution_count": 3,
      "metadata": {
        "id": "DttciWG5BLuA"
      },
      "outputs": [],
      "source": [
        "# a, b, c를 '변수'라고 한다.\n",
        "a = 1\n",
        "b = \"python\"\n",
        "c = [1, 2, 3]\n",
        "\n",
        "# 변수_이름 = 변수에_저장할_값"
      ]
    },
    {
      "cell_type": "code",
      "source": [
        "# 파이썬에서 사용하는 변수는 객체를 가리키는 것\n",
        "a = [1, 2, 3] # [1, 2, 3] 값을 가지는 리스트 데이터(객체)가 자동으로 메모리에 생성되고 변수 a는 [1, 2, 3] 리스트가 저장된 메모리의 주소를 가리키게 된다."
      ],
      "metadata": {
        "id": "E8OFhYFuBxT1"
      },
      "execution_count": 4,
      "outputs": []
    },
    {
      "cell_type": "code",
      "source": [
        "# a 변수가 가리키는 메모리의 주소\n",
        "a = [1, 2, 3]\n",
        "id(a) # id()는 변수가 가리키고 있는 객체의 주소 값을 리턴하는 파이썬의 내장 함수이다."
      ],
      "metadata": {
        "colab": {
          "base_uri": "https://localhost:8080/"
        },
        "id": "Y4aqntheCYkt",
        "outputId": "bb3254f2-7d16-4904-fb22-5c5711c20f00"
      },
      "execution_count": 5,
      "outputs": [
        {
          "output_type": "execute_result",
          "data": {
            "text/plain": [
              "136507952716928"
            ]
          },
          "metadata": {},
          "execution_count": 5
        }
      ]
    },
    {
      "cell_type": "code",
      "source": [
        "# 리스트를 복사하고자 할 때\n",
        "a = [1, 2, 3]\n",
        "b = a # a를 b에 대입했을때 a와 b는 완전히 동일\n",
        "print (id(a))\n",
        "print (id(b))"
      ],
      "metadata": {
        "colab": {
          "base_uri": "https://localhost:8080/"
        },
        "id": "zJD7TijbCcJr",
        "outputId": "b9788d79-f128-42db-c066-83fbe7dd8c7b"
      },
      "execution_count": 8,
      "outputs": [
        {
          "output_type": "stream",
          "name": "stdout",
          "text": [
            "136507951276928\n",
            "136507951276928\n"
          ]
        }
      ]
    },
    {
      "cell_type": "code",
      "source": [
        "a is b # a와 b가 가리키는 객체가 같음"
      ],
      "metadata": {
        "colab": {
          "base_uri": "https://localhost:8080/"
        },
        "id": "GpSifz3qDDrb",
        "outputId": "9847918f-4297-42d5-8ef1-8346f8195a96"
      },
      "execution_count": 9,
      "outputs": [
        {
          "output_type": "execute_result",
          "data": {
            "text/plain": [
              "True"
            ]
          },
          "metadata": {},
          "execution_count": 9
        }
      ]
    },
    {
      "cell_type": "code",
      "source": [
        "a[1] = 4\n",
        "a"
      ],
      "metadata": {
        "colab": {
          "base_uri": "https://localhost:8080/"
        },
        "id": "gE0hs1JZCuCr",
        "outputId": "6932a98f-5600-4c53-d64c-edeb6678d1bf"
      },
      "execution_count": 10,
      "outputs": [
        {
          "output_type": "execute_result",
          "data": {
            "text/plain": [
              "[1, 4, 3]"
            ]
          },
          "metadata": {},
          "execution_count": 10
        }
      ]
    },
    {
      "cell_type": "code",
      "source": [
        "b # a리스트의 두 번째 요소를 바꾸면 b도 바뀐다"
      ],
      "metadata": {
        "colab": {
          "base_uri": "https://localhost:8080/"
        },
        "id": "GIi0sKBgDKvj",
        "outputId": "7d6bf6ec-11d3-4e1e-f118-ebc22a49b09d"
      },
      "execution_count": 11,
      "outputs": [
        {
          "output_type": "execute_result",
          "data": {
            "text/plain": [
              "[1, 4, 3]"
            ]
          },
          "metadata": {},
          "execution_count": 11
        }
      ]
    },
    {
      "cell_type": "code",
      "source": [],
      "metadata": {
        "colab": {
          "base_uri": "https://localhost:8080/"
        },
        "id": "l8ecaZO7DRAr",
        "outputId": "e12fc511-e935-4b16-fe03-9f812285c218"
      },
      "execution_count": 12,
      "outputs": [
        {
          "output_type": "stream",
          "name": "stdout",
          "text": [
            "136507951276928\n",
            "136507951276928\n"
          ]
        }
      ]
    },
    {
      "cell_type": "code",
      "source": [
        "# 그렇다면 b 변수를 생성할 때 a 변수의 값을 가져오면서 a와는 다른 주소를 가리키도록 만들 수는 없을까?\n",
        "\n",
        "# 1. [:] 이용하기\n",
        "a = [1, 2, 3]\n",
        "b = a[:]\n",
        "a[1] = 4\n",
        "a"
      ],
      "metadata": {
        "colab": {
          "base_uri": "https://localhost:8080/"
        },
        "id": "gz4Rwk_hDeNd",
        "outputId": "e2d3c75e-bfad-4305-e0d0-ea299f4adc39"
      },
      "execution_count": 14,
      "outputs": [
        {
          "output_type": "execute_result",
          "data": {
            "text/plain": [
              "[1, 4, 3]"
            ]
          },
          "metadata": {},
          "execution_count": 14
        }
      ]
    },
    {
      "cell_type": "code",
      "source": [
        "b"
      ],
      "metadata": {
        "colab": {
          "base_uri": "https://localhost:8080/"
        },
        "id": "cmLKB92_Dvaz",
        "outputId": "c86592ca-d43d-411c-c40c-fc1ff7d3bdd6"
      },
      "execution_count": 15,
      "outputs": [
        {
          "output_type": "execute_result",
          "data": {
            "text/plain": [
              "[1, 2, 3]"
            ]
          },
          "metadata": {},
          "execution_count": 15
        }
      ]
    },
    {
      "cell_type": "code",
      "source": [
        "# 2. copy 모듈 이용하기\n",
        "from copy import copy\n",
        "a = [1, 2, 3]\n",
        "b = copy(a) # b = copy(a)는 b = a[:]과 동일"
      ],
      "metadata": {
        "id": "00uDAdXBDyib"
      },
      "execution_count": 17,
      "outputs": []
    },
    {
      "cell_type": "code",
      "source": [
        "b is a"
      ],
      "metadata": {
        "colab": {
          "base_uri": "https://localhost:8080/"
        },
        "id": "zmuvtoGDD_KC",
        "outputId": "93720fc9-b0b3-4af5-b1d2-ae56c7a4c2a7"
      },
      "execution_count": 18,
      "outputs": [
        {
          "output_type": "execute_result",
          "data": {
            "text/plain": [
              "False"
            ]
          },
          "metadata": {},
          "execution_count": 18
        }
      ]
    },
    {
      "cell_type": "code",
      "source": [
        "# copy 함수 사용하기\n",
        "a = [1, 2, 3]\n",
        "b = a.copy()\n",
        "b is a"
      ],
      "metadata": {
        "colab": {
          "base_uri": "https://localhost:8080/"
        },
        "id": "33n3BqcfELa3",
        "outputId": "6ae4abd1-0851-4ace-d7f9-7d02659c3008"
      },
      "execution_count": 19,
      "outputs": [
        {
          "output_type": "execute_result",
          "data": {
            "text/plain": [
              "False"
            ]
          },
          "metadata": {},
          "execution_count": 19
        }
      ]
    },
    {
      "cell_type": "code",
      "source": [
        "# 변수를 만드는 여러 가지 방법\n",
        "\n",
        "a, b = ('python', 'life')\n",
        "print (a)\n",
        "print (b)"
      ],
      "metadata": {
        "colab": {
          "base_uri": "https://localhost:8080/"
        },
        "id": "o25yCR6JEVd-",
        "outputId": "ffb5ccc2-3834-40bf-cb5f-ec2028641c18"
      },
      "execution_count": 20,
      "outputs": [
        {
          "output_type": "stream",
          "name": "stdout",
          "text": [
            "python\n",
            "life\n"
          ]
        }
      ]
    },
    {
      "cell_type": "code",
      "source": [
        "(a, b) = 'python', 'life' # a, b = ('python', 'life')와 동일\n",
        "# 튜플은 괄호 생각해도 됨\n",
        "print (a)\n",
        "print (b)"
      ],
      "metadata": {
        "colab": {
          "base_uri": "https://localhost:8080/"
        },
        "id": "B_vdVxrtEhHq",
        "outputId": "d5f507c3-3723-4752-a0f4-08c00bc5a5eb"
      },
      "execution_count": 21,
      "outputs": [
        {
          "output_type": "stream",
          "name": "stdout",
          "text": [
            "python\n",
            "life\n"
          ]
        }
      ]
    },
    {
      "cell_type": "code",
      "source": [
        "# 리스트로 만들 수도 있음\n",
        "[a, b] = ['python', 'life']\n",
        "print (a)\n",
        "print (b)"
      ],
      "metadata": {
        "colab": {
          "base_uri": "https://localhost:8080/"
        },
        "id": "-HYwFDjNEpli",
        "outputId": "71f5491c-41a1-42f2-ff26-3d026e9f3413"
      },
      "execution_count": 22,
      "outputs": [
        {
          "output_type": "stream",
          "name": "stdout",
          "text": [
            "python\n",
            "life\n"
          ]
        }
      ]
    },
    {
      "cell_type": "code",
      "source": [
        "# 여러개의 변수에 같은 값을 대입할 수도 있음\n",
        "a = b = 'python'\n",
        "print (a)\n",
        "print (b)"
      ],
      "metadata": {
        "colab": {
          "base_uri": "https://localhost:8080/"
        },
        "id": "Qy4pKn6NE7TD",
        "outputId": "728d8d66-4e9f-4a8b-91e6-baad5ee6d4c6"
      },
      "execution_count": 25,
      "outputs": [
        {
          "output_type": "stream",
          "name": "stdout",
          "text": [
            "python\n",
            "python\n"
          ]
        }
      ]
    },
    {
      "cell_type": "code",
      "source": [
        "# 파이썬에서는 위 방법을 사용하여 두 변수의 값을 간단하게 바꿀 수 있다.\n",
        "a = 3\n",
        "b = 5\n",
        "a, b = b, a\n",
        "print (a)\n",
        "print (b)"
      ],
      "metadata": {
        "colab": {
          "base_uri": "https://localhost:8080/"
        },
        "id": "J1UtRoacFC1K",
        "outputId": "bc93c825-90be-4e0d-ad8e-d1ffcb1130f1"
      },
      "execution_count": 26,
      "outputs": [
        {
          "output_type": "stream",
          "name": "stdout",
          "text": [
            "5\n",
            "3\n"
          ]
        }
      ]
    }
  ]
}