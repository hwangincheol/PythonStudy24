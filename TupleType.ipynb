{
  "nbformat": 4,
  "nbformat_minor": 0,
  "metadata": {
    "colab": {
      "provenance": [],
      "authorship_tag": "ABX9TyO0Ok+x3bAuO9hfI4Y+KeHz",
      "include_colab_link": true
    },
    "kernelspec": {
      "name": "python3",
      "display_name": "Python 3"
    },
    "language_info": {
      "name": "python"
    }
  },
  "cells": [
    {
      "cell_type": "markdown",
      "metadata": {
        "id": "view-in-github",
        "colab_type": "text"
      },
      "source": [
        "<a href=\"https://colab.research.google.com/github/hwangincheol/PythonStudy24/blob/master/TupleType.ipynb\" target=\"_parent\"><img src=\"https://colab.research.google.com/assets/colab-badge.svg\" alt=\"Open In Colab\"/></a>"
      ]
    },
    {
      "cell_type": "markdown",
      "source": [
        "튜플 자료형\n",
        "튜플은 리스트와 거의 유사함, 차이점은 ()로 둘러쌈\n",
        "리스트는 CRUD 가능하지만, 튜플은 CR 만 가능함(읽기 전용)\n",
        "자바에 Collections.unmodifiableList() 기능과 유사함.\n",
        "(https://velog.io/@clean01/Java-%EB%B3%80%EA%B2%BD%EC%9D%B4-%EB%B6%88%EA%B0%80%EB%8A%A5%ED%95%9C-Collection%EC%9D%84-%EB%A7%8C%EB%93%A4%EA%B8%B0-Immutable-Collection-Immutable-List)"
      ],
      "metadata": {
        "id": "6ZijXbwKVkRl"
      }
    },
    {
      "cell_type": "code",
      "execution_count": 1,
      "metadata": {
        "id": "0k4tdOCAU_QM"
      },
      "outputs": [],
      "source": [
        "# 튜플 생성하기\n",
        "\n",
        "t1 = ()                         # 빈 객체\n",
        "t2 = (1,)                       # 1개의 요소만 가질 때 쉼표를 반드시 붙여야 됨.\n",
        "t3 = (1, 2, 3)\n",
        "t4 = 1, 2, 3                    # () 생략 가능\n",
        "t5 = ('a', 'b', ('ab', 'cd'))   # 2차원 튜플\n",
        "\n",
        "# 튜플과 리스트의 가장 큰 차이는 요솟값을 변화 시킬 수 있는지에 대한 여부 (튜플은 불가능)\n",
        "# 프로그램이 실행되는 동안 요솟값이 항상 변하지 않기를 바란다면 튜플을 사용하자"
      ]
    },
    {
      "cell_type": "code",
      "source": [
        "t1 = (1, 2, 'a', 'b')\n",
        "# del t1[0] # 튜플 타입 에러 지울 수 없음"
      ],
      "metadata": {
        "id": "-e7WKjEDX03u"
      },
      "execution_count": 4,
      "outputs": []
    },
    {
      "cell_type": "code",
      "source": [
        "#t1[0] = 'c' # 수정할 수 없음"
      ],
      "metadata": {
        "id": "lJcLlWAgX8_a"
      },
      "execution_count": 5,
      "outputs": []
    }
  ]
}