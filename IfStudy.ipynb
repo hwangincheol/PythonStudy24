{
  "nbformat": 4,
  "nbformat_minor": 0,
  "metadata": {
    "colab": {
      "provenance": [],
      "authorship_tag": "ABX9TyP4lHnvtvcOFZIFk40wLG9R",
      "include_colab_link": true
    },
    "kernelspec": {
      "name": "python3",
      "display_name": "Python 3"
    },
    "language_info": {
      "name": "python"
    }
  },
  "cells": [
    {
      "cell_type": "markdown",
      "metadata": {
        "id": "view-in-github",
        "colab_type": "text"
      },
      "source": [
        "<a href=\"https://colab.research.google.com/github/hwangincheol/PythonStudy24/blob/master/IfStudy.ipynb\" target=\"_parent\"><img src=\"https://colab.research.google.com/assets/colab-badge.svg\" alt=\"Open In Colab\"/></a>"
      ]
    },
    {
      "cell_type": "markdown",
      "source": [
        "프로그램의 판단을 할 수 있는 조건문인 if를 사용해본다.\n",
        "\n",
        "if문은 만약에 라는 의미를 가지고 있고 결과는 참, 거짓으로  판단한다."
      ],
      "metadata": {
        "id": "DNlN6TG4nppB"
      }
    },
    {
      "cell_type": "code",
      "execution_count": 8,
      "metadata": {
        "colab": {
          "base_uri": "https://localhost:8080/"
        },
        "id": "cxQGtQmonZt5",
        "outputId": "6ef1b431-8367-4e38-9599-42b907804567"
      },
      "outputs": [
        {
          "output_type": "stream",
          "name": "stdout",
          "text": [
            "택시를 타고 가라\n",
            "모범택시는 비싸니 다음 택시를 기다려라\n",
            "택시가 안보이면 카카오택시를 불러라\n"
          ]
        }
      ],
      "source": [
        "# 돈이 있으면 택시를 타고 가고, 돈이 없으면 걸어간다.\n",
        "\n",
        "money = True    # 돈이 있으면\n",
        "if money:       # 파이썬에는 {} 없기 때문에 : 으로 구문을 내림\n",
        "    print(\"택시를 타고 가라\") # True 일 때 처리 (하위 처리를 위해서 띄어쓰기 4번을 진행)\n",
        "    print(\"모범택시는 비싸니 다음 택시를 기다려라\")\n",
        "    print(\"택시가 안보이면 카카오택시를 불러라\")\n",
        "else:           # False 일 때 처리\n",
        "    print(\"===================\")\n",
        "    print(\"걸어가라\") # False 용 명령\n",
        "    print(\"===================\")"
      ]
    },
    {
      "cell_type": "code",
      "source": [
        "money = 2000\n",
        "if money >= 3000:   # if 뒤에 써지는 문장이 조건이 됨 :\n",
        "    print(\"택시를 타고 가라\")   # True\n",
        "else:\n",
        "    print(\"걸어가라\")   # False"
      ],
      "metadata": {
        "colab": {
          "base_uri": "https://localhost:8080/"
        },
        "id": "yv--QjoTtTM4",
        "outputId": "246003fd-a418-4123-cbd1-121a3d598d3b"
      },
      "execution_count": 9,
      "outputs": [
        {
          "output_type": "stream",
          "name": "stdout",
          "text": [
            "걸어가라\n"
          ]
        }
      ]
    },
    {
      "cell_type": "code",
      "source": [
        "# x or y -> 또는 (둘중 하나만 참이어도 참)\n",
        "# x and y -> ~이고 (둘다 참이어야 참)\n",
        "# not x -> x가 아니면 참 (거짓, 반전)\n",
        "\n",
        "# 돈이 3000원 이상 있거나 카드가 있다면 택시를 타고 가고, 아니면 걸어가라\n",
        "money = 2000;\n",
        "card = True;\n",
        "\n",
        "if money >= 3000 or card:\n",
        "    print(\"택시를 타고 가라\")\n",
        "else:\n",
        "    print(\"걸어가라\")"
      ],
      "metadata": {
        "colab": {
          "base_uri": "https://localhost:8080/"
        },
        "id": "kRkfLXZJwADz",
        "outputId": "d90c698c-09f2-4b2f-ee09-af251e0c9441"
      },
      "execution_count": 14,
      "outputs": [
        {
          "output_type": "stream",
          "name": "stdout",
          "text": [
            "택시를 타고 가라\n"
          ]
        }
      ]
    },
    {
      "cell_type": "code",
      "source": [
        "# or 연산 진리표\n",
        "# money    or    card    =   결과\n",
        "#   0              0     =     0\n",
        "#   1              0     =     1\n",
        "#   0              1     =     1\n",
        "#   1              1     =     1"
      ],
      "metadata": {
        "id": "vAH0Cnocxlrs"
      },
      "execution_count": 16,
      "outputs": []
    },
    {
      "cell_type": "code",
      "source": [
        "# in             ,    not in\n",
        "# x in 리스트    ,    x not in 리스트\n",
        "# x in 튜플      ,    x not in 튜플\n",
        "# x in 문자열    ,    x not in 문자열\n",
        "\n",
        "1 not in [1, 2, 3]"
      ],
      "metadata": {
        "colab": {
          "base_uri": "https://localhost:8080/"
        },
        "id": "AYcsD1iMykxk",
        "outputId": "081b4cf4-7ef7-4818-b479-8462be47acb3"
      },
      "execution_count": 19,
      "outputs": [
        {
          "output_type": "execute_result",
          "data": {
            "text/plain": [
              "False"
            ]
          },
          "metadata": {},
          "execution_count": 19
        }
      ]
    },
    {
      "cell_type": "code",
      "source": [
        "'a' in ('a', 'b', 'c')  # 튜플"
      ],
      "metadata": {
        "colab": {
          "base_uri": "https://localhost:8080/"
        },
        "id": "SmHHOqGYzZQT",
        "outputId": "41ed1f5f-c16d-434b-e845-b8ed65130dc6"
      },
      "execution_count": 20,
      "outputs": [
        {
          "output_type": "execute_result",
          "data": {
            "text/plain": [
              "True"
            ]
          },
          "metadata": {},
          "execution_count": 20
        }
      ]
    },
    {
      "cell_type": "code",
      "source": [
        "'j' not in 'python'"
      ],
      "metadata": {
        "colab": {
          "base_uri": "https://localhost:8080/"
        },
        "id": "RqU2AFlOzwgy",
        "outputId": "1a9a2c21-7a86-40fc-9605-bf7189bc42bc"
      },
      "execution_count": 21,
      "outputs": [
        {
          "output_type": "execute_result",
          "data": {
            "text/plain": [
              "True"
            ]
          },
          "metadata": {},
          "execution_count": 21
        }
      ]
    },
    {
      "cell_type": "code",
      "source": [
        "# 만약 주머니에 돈이 있으면 택시를 타고 가고, 없으면 걸어가라.\n",
        "pocket = ['paper', 'cellphone', 'money']\n",
        "\n",
        "if 'money' in pocket:\n",
        "    print(\"택시를 타고 가라\")\n",
        "else:\n",
        "    print(\"걸어가라\")"
      ],
      "metadata": {
        "colab": {
          "base_uri": "https://localhost:8080/"
        },
        "id": "IdR9s1Vcz6Z6",
        "outputId": "546a866f-72d4-4f07-a1df-a7197207f5d5"
      },
      "execution_count": 22,
      "outputs": [
        {
          "output_type": "stream",
          "name": "stdout",
          "text": [
            "택시를 타고 가라\n"
          ]
        }
      ]
    },
    {
      "cell_type": "code",
      "source": [
        "# 조건문에서 아무 일도 하지 않게 설정하고 싶을 때 pass\n",
        "# 조건문의 참, 거짓에 따라 실행할 행동을 정의할 때나 아무런 일도 하지 않도록 설정하고 싶을때\n",
        "\n",
        "# 주머니에 돈이 있으면 가만히 있고, 주머니에 돈이 없으면 카드를 꺼내라.\n",
        "pocket = ['paper', 'cellphone', 'card']\n",
        "if 'money' in pocket:\n",
        "    pass    # skip 같은 의미\n",
        "else:\n",
        "    print(\"카드를 꺼내라\")"
      ],
      "metadata": {
        "colab": {
          "base_uri": "https://localhost:8080/"
        },
        "id": "jhH-jpjC3F_z",
        "outputId": "8c8fd4fe-9f77-480a-c185-c4e31ecb0258"
      },
      "execution_count": 24,
      "outputs": [
        {
          "output_type": "stream",
          "name": "stdout",
          "text": [
            "카드를 꺼내라\n"
          ]
        }
      ]
    },
    {
      "cell_type": "code",
      "source": [
        "# elif if문 아래쪽에 한번더 비교하는 조건문 (elif 사용횟수는 무제한)\n",
        "score = 88\n",
        "if score >= 90:\n",
        "    print(\"A 등급입니다.\")\n",
        "elif score >= 80:\n",
        "    print(\"B 등급입니다.\")\n",
        "elif score >= 70:\n",
        "    print(\"C 등급입니다.\")\n",
        "elif score >= 60:\n",
        "    print(\"D 등급입니다.\")\n",
        "else:\n",
        "    print(\"F 등급입니다.\")"
      ],
      "metadata": {
        "colab": {
          "base_uri": "https://localhost:8080/"
        },
        "id": "pGfedb8A6uMa",
        "outputId": "4a50e5c0-6823-4ae3-ec12-4517932e4b56"
      },
      "execution_count": 26,
      "outputs": [
        {
          "output_type": "stream",
          "name": "stdout",
          "text": [
            "B 등급입니다.\n"
          ]
        }
      ]
    },
    {
      "cell_type": "code",
      "source": [
        "# 주머니에 돈이 있으면 택시를 타고 가고, 주머니에 돈은 없지만 카드가 있으면 타고 가고, 돈도 없고 카드도 없으면 걸어가라\n",
        "\n",
        "pocket = ['paper', 'cellphone']\n",
        "card = False\n",
        "\n",
        "if 'money' in pocket:\n",
        "    print(\"택시를 타고가라\")\n",
        "elif card:\n",
        "    print(\"택시를 타고가라\")\n",
        "else:\n",
        "    print(\"걸어가라\")"
      ],
      "metadata": {
        "colab": {
          "base_uri": "https://localhost:8080/"
        },
        "id": "2ZKzMyzg8GJv",
        "outputId": "e42fbfc0-976a-42aa-c1c9-282381c98abd"
      },
      "execution_count": 30,
      "outputs": [
        {
          "output_type": "stream",
          "name": "stdout",
          "text": [
            "걸어가라\n"
          ]
        }
      ]
    },
    {
      "cell_type": "code",
      "source": [
        "# 패션코딩 -> 최대한 간결하게 코딩하는 기법\n",
        "\n",
        "pocket = ['paper', 'cellphone']\n",
        "card = True\n",
        "if 'money' in pocket: print(\"택시를 타고가라\")\n",
        "elif card: print(\"택시를 타고가라\")\n",
        "else: print(\"걸어가라\")"
      ],
      "metadata": {
        "colab": {
          "base_uri": "https://localhost:8080/"
        },
        "id": "VvhY8yxG9D7G",
        "outputId": "0bad931e-badd-40fb-bcce-aac0b2b3ef42"
      },
      "execution_count": 31,
      "outputs": [
        {
          "output_type": "stream",
          "name": "stdout",
          "text": [
            "택시를 타고가라\n"
          ]
        }
      ]
    },
    {
      "cell_type": "code",
      "source": [
        "# 시험 점수가 60점 이상이면 success, 아니면 failure를 변수에 담아 출력해보자.\n",
        "score = 88\n",
        "\n",
        "if score >= 60:\n",
        "    message = \"success\"\n",
        "else:\n",
        "    message = \"failure\"\n",
        "print(message)\n"
      ],
      "metadata": {
        "colab": {
          "base_uri": "https://localhost:8080/"
        },
        "id": "TwyZldpy_Q46",
        "outputId": "61ed718d-5dbf-49c4-b02b-75a8867635a2"
      },
      "execution_count": 32,
      "outputs": [
        {
          "output_type": "stream",
          "name": "stdout",
          "text": [
            "success\n"
          ]
        }
      ]
    },
    {
      "cell_type": "code",
      "source": [
        "# 파이썬의 조건부 표현식\n",
        "# 변수 = 참인 경우의 값 if 조건문 esle 거짓인 경우의 값\n",
        "score = 88\n",
        "\n",
        "message = \"success\" if score >= 60 else \"failure\"\n",
        "print(message)"
      ],
      "metadata": {
        "colab": {
          "base_uri": "https://localhost:8080/"
        },
        "id": "pTsZJ7rl_0Ey",
        "outputId": "91119c16-0b7a-40e6-feea-3228235755ff"
      },
      "execution_count": 36,
      "outputs": [
        {
          "output_type": "stream",
          "name": "stdout",
          "text": [
            "success\n"
          ]
        }
      ]
    },
    {
      "cell_type": "code",
      "source": [
        "# # # 미션\n",
        "# # # 성적처리용 코드 작성 a등급 ~ f등급까지 출력\n",
        "\n",
        "score = input(\"점수를 입력하세요 >>> \")\n",
        "\n",
        "if not score.isdigit():  # score가 숫자가 아니면\n",
        "    print(\"잘못 입력되었습니다.\")\n",
        "else:\n",
        "    score = int(score)\n",
        "    if score < 0 or score > 100: print(\"1 ~ 100 사이의 점수를 입력해주세요.\")\n",
        "    elif score >= 90: print(\"A 등급입니다.\")\n",
        "    elif score >= 80: print(\"B 등급입니다.\")\n",
        "    elif score >= 70: print(\"C 등급입니다.\")\n",
        "    elif score >= 60: print(\"D 등급입니다.\")\n",
        "    else: print(\"F 등급입니다.\")\n"
      ],
      "metadata": {
        "colab": {
          "base_uri": "https://localhost:8080/"
        },
        "id": "ruqNJ5zAATSY",
        "outputId": "199df5fc-e87a-4307-eb70-ad0b7d35c89a"
      },
      "execution_count": 140,
      "outputs": [
        {
          "output_type": "stream",
          "name": "stdout",
          "text": [
            "점수를 입력하세요 >>> 10\n",
            "F 등급입니다.\n"
          ]
        }
      ]
    },
    {
      "cell_type": "code",
      "source": [
        "# try 사용햇을때\n",
        "try:\n",
        "    score = float(input(\"점수를 입력하세요 >>> \"))\n",
        "\n",
        "    # 범위 체크\n",
        "    if score < 0 or score > 100: print(\"1 ~ 100 사이의 점수를 입력해주세요.\")\n",
        "    elif score >= 90: print(\"A 등급입니다.\")\n",
        "    elif score >= 80: print(\"B 등급입니다.\")\n",
        "    elif score >= 70: print(\"C 등급입니다.\")\n",
        "    elif score >= 60: print(\"D 등급입니다.\")\n",
        "    else: print(\"F 등급입니다.\")\n",
        "\n",
        "except ValueError:  # 숫자가 아닌 값을 입력한 경우 예외 처리\n",
        "    print(\"잘못된 입력입니다. 숫자만 입력해주세요.\")"
      ],
      "metadata": {
        "colab": {
          "base_uri": "https://localhost:8080/"
        },
        "id": "oTPxiauDRldt",
        "outputId": "e9fb9d54-24bd-49bd-9afe-d8e0f71894fb"
      },
      "execution_count": 137,
      "outputs": [
        {
          "output_type": "stream",
          "name": "stdout",
          "text": [
            "점수를 입력하세요 >>> 10\n",
            "F 등급입니다.\n"
          ]
        }
      ]
    }
  ]
}