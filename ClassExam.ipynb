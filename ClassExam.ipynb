{
  "nbformat": 4,
  "nbformat_minor": 0,
  "metadata": {
    "colab": {
      "provenance": [],
      "authorship_tag": "ABX9TyMhdfJNWwPhd44l5cX6q+vi",
      "include_colab_link": true
    },
    "kernelspec": {
      "name": "python3",
      "display_name": "Python 3"
    },
    "language_info": {
      "name": "python"
    }
  },
  "cells": [
    {
      "cell_type": "markdown",
      "metadata": {
        "id": "view-in-github",
        "colab_type": "text"
      },
      "source": [
        "<a href=\"https://colab.research.google.com/github/hwangincheol/PythonStudy24/blob/master/ClassExam.ipynb\" target=\"_parent\"><img src=\"https://colab.research.google.com/assets/colab-badge.svg\" alt=\"Open In Colab\"/></a>"
      ]
    },
    {
      "cell_type": "markdown",
      "source": [
        "클래스는 객체지향 언어의 필수로 각각의 객체를 담당한다.\n",
        "\n",
        "만약 쇼핑몰 프로젝트를 만든다고 하면\n",
        "- 회원용.py -> 동작(메서드) C, R, U, D, other\n",
        "- 아이템.py -> 동작(메서드) C, R, U, D, other\n",
        "- 게시판.py -> 동작(메서드) C, R, U, D, other\n",
        "- 장바구니.py -> 동작(메서드) C, R, U, D, other\n",
        "- main.py와 연동되게 설정한다.\n"
      ],
      "metadata": {
        "id": "6wNvZTuciniq"
      }
    },
    {
      "cell_type": "code",
      "execution_count": 5,
      "metadata": {
        "colab": {
          "base_uri": "https://localhost:8080/"
        },
        "id": "jD3NAnVseSaR",
        "outputId": "dd27ac9c-40ec-4c5b-ed08-770a58facfcc"
      },
      "outputs": [
        {
          "output_type": "stream",
          "name": "stdout",
          "text": [
            "4\n"
          ]
        }
      ],
      "source": [
        "# 계산기 처리용 클래스\n",
        "result = 0  # 결과값 처리용 변수\n",
        "\n",
        "def add(num):\n",
        "    global result   # 전역변수 사용\n",
        "    result += num   # 메서드에 입력값을 더함\n",
        "    return result   # 결과를 보냄\n",
        "\n",
        "print(add(4))       # 위에 만든 메서드에 4를 입력하고 리턴값을 출력"
      ]
    },
    {
      "cell_type": "code",
      "source": [
        "print(add(9))"
      ],
      "metadata": {
        "colab": {
          "base_uri": "https://localhost:8080/"
        },
        "id": "amZmFzD2k5NP",
        "outputId": "e87c9cb1-7b8e-46d2-de42-ce34a7b8fb23"
      },
      "execution_count": 6,
      "outputs": [
        {
          "output_type": "stream",
          "name": "stdout",
          "text": [
            "13\n"
          ]
        }
      ]
    },
    {
      "cell_type": "code",
      "source": [
        "# 만일 한 프로그램에서 2대의 계산기가 필요한 상황이라면?\n",
        "\n",
        "result1 = 0\n",
        "result2 = 0\n",
        "\n",
        "def add(num):\n",
        "    global result\n",
        "    result += num\n",
        "    return result\n",
        "\n",
        "def add2(num):\n",
        "    global result2\n",
        "    result2 += num\n",
        "    return result2"
      ],
      "metadata": {
        "id": "rYAFRaJgk_Hy"
      },
      "execution_count": 8,
      "outputs": []
    },
    {
      "cell_type": "code",
      "source": [
        "# 클래스를 이용한 계산기\n",
        "\n",
        "class Calculator:           # 객체 생성용 (생성자용 메서드, 일반 메서드)\n",
        "    def __init__(self):     # 생성자 (객체 생성시 0순위로 처리 됨)\n",
        "        self.result = 0     # 객체 자신에 result 변수를 만들고 0값을 넣음\n",
        "\n",
        "    def add(self, num):     # 객체용 메서드\n",
        "        self.result += num  # 생성자에 있는 변수에 num을 누적합 저장\n",
        "        return self.result  # 결과를 리턴함."
      ],
      "metadata": {
        "id": "qcUbLurjlC_i"
      },
      "execution_count": 9,
      "outputs": []
    },
    {
      "cell_type": "code",
      "source": [
        "# 객체를 생성함 볌수에 연결 (java : Calculator cal1 = new Calculator())\n",
        "\n",
        "cal1 = Calculator()\n",
        "cal2 = Calculator()\n",
        "\n",
        "print(cal1.add(3))  # 1번 계산기"
      ],
      "metadata": {
        "colab": {
          "base_uri": "https://localhost:8080/"
        },
        "id": "O0_S8RoPnS3T",
        "outputId": "87ac72e7-72a8-4f01-a1e4-9206539b6c50"
      },
      "execution_count": 10,
      "outputs": [
        {
          "output_type": "stream",
          "name": "stdout",
          "text": [
            "3\n"
          ]
        }
      ]
    },
    {
      "cell_type": "code",
      "source": [
        "print(cal2.add(9))  # 2번 계산기"
      ],
      "metadata": {
        "colab": {
          "base_uri": "https://localhost:8080/"
        },
        "id": "eU-U4QdVn0Gx",
        "outputId": "34c7e098-f6f0-4c13-8780-fab677acca5d"
      },
      "execution_count": 11,
      "outputs": [
        {
          "output_type": "stream",
          "name": "stdout",
          "text": [
            "9\n"
          ]
        }
      ]
    },
    {
      "cell_type": "code",
      "source": [
        "print(cal1.add(9))  # 1번 계산기"
      ],
      "metadata": {
        "colab": {
          "base_uri": "https://localhost:8080/"
        },
        "id": "nypNS7SQn1_x",
        "outputId": "20afe139-a5b8-4dcd-e969-99ebbd9e2681"
      },
      "execution_count": 12,
      "outputs": [
        {
          "output_type": "stream",
          "name": "stdout",
          "text": [
            "12\n"
          ]
        }
      ]
    },
    {
      "cell_type": "code",
      "source": [
        "print(cal2.add(10)) # 2번 계산기"
      ],
      "metadata": {
        "colab": {
          "base_uri": "https://localhost:8080/"
        },
        "id": "Vk81z0kZoFMS",
        "outputId": "60284603-759d-49f1-d6da-6feba31f665c"
      },
      "execution_count": 14,
      "outputs": [
        {
          "output_type": "stream",
          "name": "stdout",
          "text": [
            "19\n"
          ]
        }
      ]
    },
    {
      "cell_type": "code",
      "source": [
        "# 클래스를 활용한 사칙연산 계산기 만들기\n",
        "\n",
        "class FourCal:\n",
        "    # pass        # 아무 기능 없이 동작\n",
        "    # 필드 : 객체마다 가지고 잇어야 할 데이터들 (dto, vo)\n",
        "    first = 0\n",
        "    second = 0\n",
        "\n",
        "    # 생성자 : 객체를 생성할때 필요한 무언가?? (생성자의 이름은 __init__)\n",
        "    def __init__(self, first, second):\n",
        "        self.first = first\n",
        "        self.second =  second\n",
        "\n",
        "    def setdata(self, first, second):   # 메서드 선언(self 필수)\n",
        "        self.first = first              # this.first = first\n",
        "        self.second = second            # this.second = second\n",
        "\n",
        "    def add(self):\n",
        "        result = self.first + self.second\n",
        "        return result\n",
        "\n",
        "    def mul(self):\n",
        "        result = self.first * self.second\n",
        "        return result\n",
        "\n",
        "    def sub(self):\n",
        "        result = self.first - self.second\n",
        "        return result\n",
        "\n",
        "    def div(self):\n",
        "        result = self.first / self.second\n",
        "        return result"
      ],
      "metadata": {
        "id": "898CzvJ3oHDK"
      },
      "execution_count": 52,
      "outputs": []
    },
    {
      "cell_type": "code",
      "source": [
        "a = FourCal()   # a 변수에 객체가 연결됨\n",
        "a.setdata(4,2)  # a 변수를 self로 처리함"
      ],
      "metadata": {
        "id": "QOp8jyHtqEcM"
      },
      "execution_count": 38,
      "outputs": []
    },
    {
      "cell_type": "code",
      "source": [
        "print(a.first)"
      ],
      "metadata": {
        "colab": {
          "base_uri": "https://localhost:8080/"
        },
        "id": "IrLuFUIeqLqp",
        "outputId": "89b2f9d3-11ea-488b-d2ce-7ff97eab2d59"
      },
      "execution_count": 21,
      "outputs": [
        {
          "output_type": "stream",
          "name": "stdout",
          "text": [
            "4\n"
          ]
        }
      ]
    },
    {
      "cell_type": "code",
      "source": [
        "b = FourCal()\n",
        "FourCal.setdata(b, 4, 2)"
      ],
      "metadata": {
        "id": "htzvrgJhrWXS"
      },
      "execution_count": 39,
      "outputs": []
    },
    {
      "cell_type": "code",
      "source": [
        "print (a.first)"
      ],
      "metadata": {
        "colab": {
          "base_uri": "https://localhost:8080/"
        },
        "id": "7DwzsAEYuj-x",
        "outputId": "6d4ded82-aeb0-4234-a109-4b4b3d7a58fc"
      },
      "execution_count": 40,
      "outputs": [
        {
          "output_type": "stream",
          "name": "stdout",
          "text": [
            "4\n"
          ]
        }
      ]
    },
    {
      "cell_type": "code",
      "source": [
        "print (b.second)"
      ],
      "metadata": {
        "colab": {
          "base_uri": "https://localhost:8080/"
        },
        "id": "T8x3CDSFu7Pw",
        "outputId": "35bacb95-cf03-40dd-91a7-37b63ad32aed"
      },
      "execution_count": 34,
      "outputs": [
        {
          "output_type": "stream",
          "name": "stdout",
          "text": [
            "2\n"
          ]
        }
      ]
    },
    {
      "cell_type": "code",
      "source": [
        "c = FourCal()\n",
        "c.setdata(5, 5)\n",
        "c.mul()"
      ],
      "metadata": {
        "colab": {
          "base_uri": "https://localhost:8080/"
        },
        "id": "rs_dWxDsvfGo",
        "outputId": "10ba71ad-2fc9-4b37-a25b-8da440b4eca2"
      },
      "execution_count": 43,
      "outputs": [
        {
          "output_type": "execute_result",
          "data": {
            "text/plain": [
              "25"
            ]
          },
          "metadata": {},
          "execution_count": 43
        }
      ]
    },
    {
      "cell_type": "code",
      "source": [
        "d = FourCal(5, 5)\n",
        "d.add()"
      ],
      "metadata": {
        "colab": {
          "base_uri": "https://localhost:8080/"
        },
        "id": "yilkv5AgwZwg",
        "outputId": "88693ea8-197a-4faa-8331-83a9a37d5a82"
      },
      "execution_count": 54,
      "outputs": [
        {
          "output_type": "execute_result",
          "data": {
            "text/plain": [
              "10"
            ]
          },
          "metadata": {},
          "execution_count": 54
        }
      ]
    },
    {
      "cell_type": "code",
      "source": [
        "# 상속 기능 : 부모가 만든 객체를 보완, 추가하는 기능\n",
        "\n",
        "class MoreFourCal(FourCal): # 객체생성시(부모객체)\n",
        "\n",
        "    def pow(self):\n",
        "        result = self.first ** self.second  # ** 제곱\n",
        "        return result\n",
        "\n",
        "    # 오버라이딩 : 부모가 만든 메서드를 변경하여 사용함\n",
        "    def div(self):\n",
        "        if self.second == 0:\n",
        "            return 0\n",
        "        else:\n",
        "            return self.first / self.second"
      ],
      "metadata": {
        "id": "BS9dqMI6woSn"
      },
      "execution_count": 61,
      "outputs": []
    },
    {
      "cell_type": "code",
      "source": [
        "e = MoreFourCal(4, 4)\n",
        "e.pow()"
      ],
      "metadata": {
        "colab": {
          "base_uri": "https://localhost:8080/"
        },
        "id": "xKOZcEtUzH9Y",
        "outputId": "1e1311a5-0846-435a-ab56-e0a6a75634d3"
      },
      "execution_count": 59,
      "outputs": [
        {
          "output_type": "execute_result",
          "data": {
            "text/plain": [
              "256"
            ]
          },
          "metadata": {},
          "execution_count": 59
        }
      ]
    },
    {
      "cell_type": "code",
      "source": [
        "f = MoreFourCal(4, 0)\n",
        "f.div()"
      ],
      "metadata": {
        "colab": {
          "base_uri": "https://localhost:8080/"
        },
        "id": "h7ejME8KzUkv",
        "outputId": "a323a47e-f44b-4dd9-82b1-496679083e15"
      },
      "execution_count": 62,
      "outputs": [
        {
          "output_type": "execute_result",
          "data": {
            "text/plain": [
              "0"
            ]
          },
          "metadata": {},
          "execution_count": 62
        }
      ]
    }
  ]
}